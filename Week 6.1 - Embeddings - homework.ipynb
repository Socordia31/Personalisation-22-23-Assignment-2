{
 "cells": [
  {
   "cell_type": "code",
   "execution_count": 474,
   "metadata": {},
   "outputs": [],
   "source": [
    "#Adapted from the Keras Example https://keras.io/examples/structured_data/collaborative_filtering_movielens/"
   ]
  },
  {
   "cell_type": "code",
   "execution_count": 1,
   "metadata": {},
   "outputs": [],
   "source": [
    "import pandas as pd\n",
    "import numpy as np\n",
    "from pathlib import Path\n",
    "import matplotlib.pyplot as plt"
   ]
  },
  {
   "cell_type": "markdown",
   "metadata": {},
   "source": [
    "# Week 6.1- Embeddings for Recommendation \n",
    "\n",
    "Here we'll see how to train our simple **Dot Product** model, along with our **user embeddings** and **item embeddings** using the **Keras** library. As before, we'll be checking out the **MovieLens** dataset \n",
    "\n",
    "## Loading in the Dataset\n",
    "\n",
    "First we load in the small version of the dataset. As this is a **Collaborative Filtering** approach, we are interested in the **ratings.csv**, which has all over ratings made by each user."
   ]
  },
  {
   "cell_type": "code",
   "execution_count": 2,
   "metadata": {},
   "outputs": [],
   "source": [
    "df = pd.read_csv(\"data/ml-latest-small/ratings.csv\")"
   ]
  },
  {
   "cell_type": "code",
   "execution_count": 3,
   "metadata": {},
   "outputs": [
    {
     "data": {
      "text/plain": "100004"
     },
     "execution_count": 3,
     "metadata": {},
     "output_type": "execute_result"
    }
   ],
   "source": [
    "len(df)"
   ]
  },
  {
   "cell_type": "code",
   "execution_count": 4,
   "metadata": {},
   "outputs": [
    {
     "data": {
      "text/plain": "        userId  movieId  rating   timestamp\n99904      671      590     4.0  1065149296\n99905      671      608     4.0  1064890575\n99906      671      745     4.0  1065149085\n99907      671      919     4.0  1065149458\n99908      671     1035     5.0  1065149492\n...        ...      ...     ...         ...\n99999      671     6268     2.5  1065579370\n100000     671     6269     4.0  1065149201\n100001     671     6365     4.0  1070940363\n100002     671     6385     2.5  1070979663\n100003     671     6565     3.5  1074784724\n\n[100 rows x 4 columns]",
      "text/html": "<div>\n<style scoped>\n    .dataframe tbody tr th:only-of-type {\n        vertical-align: middle;\n    }\n\n    .dataframe tbody tr th {\n        vertical-align: top;\n    }\n\n    .dataframe thead th {\n        text-align: right;\n    }\n</style>\n<table border=\"1\" class=\"dataframe\">\n  <thead>\n    <tr style=\"text-align: right;\">\n      <th></th>\n      <th>userId</th>\n      <th>movieId</th>\n      <th>rating</th>\n      <th>timestamp</th>\n    </tr>\n  </thead>\n  <tbody>\n    <tr>\n      <th>99904</th>\n      <td>671</td>\n      <td>590</td>\n      <td>4.0</td>\n      <td>1065149296</td>\n    </tr>\n    <tr>\n      <th>99905</th>\n      <td>671</td>\n      <td>608</td>\n      <td>4.0</td>\n      <td>1064890575</td>\n    </tr>\n    <tr>\n      <th>99906</th>\n      <td>671</td>\n      <td>745</td>\n      <td>4.0</td>\n      <td>1065149085</td>\n    </tr>\n    <tr>\n      <th>99907</th>\n      <td>671</td>\n      <td>919</td>\n      <td>4.0</td>\n      <td>1065149458</td>\n    </tr>\n    <tr>\n      <th>99908</th>\n      <td>671</td>\n      <td>1035</td>\n      <td>5.0</td>\n      <td>1065149492</td>\n    </tr>\n    <tr>\n      <th>...</th>\n      <td>...</td>\n      <td>...</td>\n      <td>...</td>\n      <td>...</td>\n    </tr>\n    <tr>\n      <th>99999</th>\n      <td>671</td>\n      <td>6268</td>\n      <td>2.5</td>\n      <td>1065579370</td>\n    </tr>\n    <tr>\n      <th>100000</th>\n      <td>671</td>\n      <td>6269</td>\n      <td>4.0</td>\n      <td>1065149201</td>\n    </tr>\n    <tr>\n      <th>100001</th>\n      <td>671</td>\n      <td>6365</td>\n      <td>4.0</td>\n      <td>1070940363</td>\n    </tr>\n    <tr>\n      <th>100002</th>\n      <td>671</td>\n      <td>6385</td>\n      <td>2.5</td>\n      <td>1070979663</td>\n    </tr>\n    <tr>\n      <th>100003</th>\n      <td>671</td>\n      <td>6565</td>\n      <td>3.5</td>\n      <td>1074784724</td>\n    </tr>\n  </tbody>\n</table>\n<p>100 rows × 4 columns</p>\n</div>"
     },
     "execution_count": 4,
     "metadata": {},
     "output_type": "execute_result"
    }
   ],
   "source": [
    "df.tail(100)"
   ]
  },
  {
   "cell_type": "markdown",
   "metadata": {},
   "source": [
    "## Preprocessing \n",
    "\n",
    "What we have in the dataset is a list of **userId** and **movieId** pairs loaded into a ``Pandas`` DataFrame. \n",
    "\n",
    "As we said before, you can think of an embedding layer as a **one-hot encoding** layer the size of your **vocabulary**, followed by a **fully connected layer** the size of your embedding. \n",
    "\n",
    "When we make the embedding, we will need a way of mapping back from **indexes** in the **one-hot encoding** back to the ids for the users and movies. \n",
    "\n",
    "### Vocabulary \n",
    "\n",
    "In order to make the vocabulary (all the unique ids), we can use the ``unique()`` function in ``Pandas``"
   ]
  },
  {
   "cell_type": "code",
   "execution_count": 7,
   "metadata": {},
   "outputs": [],
   "source": [
    "user_ids = df[\"userId\"].unique().tolist()\n",
    "movie_ids = df[\"movieId\"].unique().tolist()"
   ]
  },
  {
   "cell_type": "code",
   "execution_count": 8,
   "metadata": {},
   "outputs": [
    {
     "data": {
      "text/plain": "9066"
     },
     "execution_count": 8,
     "metadata": {},
     "output_type": "execute_result"
    }
   ],
   "source": [
    "len(movie_ids)"
   ]
  },
  {
   "cell_type": "code",
   "execution_count": 9,
   "metadata": {},
   "outputs": [
    {
     "data": {
      "text/plain": "[31, 1029, 1061, 1129, 1172, 1263]"
     },
     "execution_count": 9,
     "metadata": {},
     "output_type": "execute_result"
    }
   ],
   "source": [
    "#Non-sequential list of ids\n",
    "movie_ids[:6]"
   ]
  },
  {
   "cell_type": "markdown",
   "metadata": {},
   "source": [
    "### Dictionary Comprehensions \n",
    "\n",
    "We've seen ``Dictionaries`` (e.g. when looking at JSON from REST APIs). This is a collection like a ``List``, but instead of using indexes to access data (**values**), we use **keys**. \n",
    "\n",
    "We've also seen ``List Comprehensions``, a short hand way to iterate through an existing collection and make a new ``List``. \n",
    "\n",
    "As we want something where we can use an arbitrary string/number (e.g. a movie or user id) to look up an index, a ``Dictionary`` seems like a good data structure to use. We can declare dictionaries manually (see below), but it would be much quicker and cleaner to use the information we already have to make this.\n"
   ]
  },
  {
   "cell_type": "code",
   "execution_count": 10,
   "metadata": {},
   "outputs": [
    {
     "data": {
      "text/plain": "1"
     },
     "execution_count": 10,
     "metadata": {},
     "output_type": "execute_result"
    }
   ],
   "source": [
    "#Manually making the dictionary\n",
    "movie_id_to_index = {\n",
    "    31: 1,\n",
    "    1029: 2,\n",
    "    1061: 3\n",
    "}\n",
    "#Use a movie id to look up an index\n",
    "movie_id_to_index[31]"
   ]
  },
  {
   "cell_type": "markdown",
   "metadata": {},
   "source": [
    "Like the ``List Comprehension``, the ``Dictionary Comprehension`` iterates through a given collection, does some calculation and stores new values in a new collection. \n",
    "\n",
    "In this case, we need to return both a ``Key`` and a ``Value`` for each item. \n",
    "\n",
    "```\n",
    "a = [1,2,3]\n",
    "b = {i:i+1 for i in a} \n",
    "```\n",
    "\n",
    "is the same as \n",
    "\n",
    "```\n",
    "a = [1,2,3]\n",
    "b = {}\n",
    "for i in a:\n",
    "    b[i] = i+1\n",
    "```\n",
    "\n",
    "where we end up with the ``Dictionary``\n",
    "\n",
    "```\n",
    "{\n",
    "    1: 2,\n",
    "    2: 3,\n",
    "    3: 4\n",
    "}\n",
    "```\n",
    "\n",
    "Below, we combine the dictionary comprehension with the ``enumerate()`` function to return the id (x) and the index (i) and store them in a new dictionary "
   ]
  },
  {
   "cell_type": "code",
   "execution_count": 11,
   "metadata": {},
   "outputs": [],
   "source": [
    "#Make a dictionary mapping ids (keys) to indexes (values)\n",
    "user_id_to_index = {x: i for i, x in enumerate(user_ids)}\n",
    "movie_id_to_index = {x: i for i, x in enumerate(movie_ids)}"
   ]
  },
  {
   "cell_type": "code",
   "execution_count": 12,
   "metadata": {},
   "outputs": [],
   "source": [
    "#Make a new column in the dataframe which contains the appropriate index for each user and movie\n",
    "df[\"user_index\"] = [user_id_to_index[i] for i in df[\"userId\"]]\n",
    "df[\"movie_index\"] = [movie_id_to_index[i] for i in df[\"movieId\"]]"
   ]
  },
  {
   "cell_type": "code",
   "execution_count": 13,
   "metadata": {},
   "outputs": [
    {
     "data": {
      "text/plain": "   userId  movieId  rating   timestamp  user_index  movie_index\n0       1       31     2.5  1260759144           0            0\n1       1     1029     3.0  1260759179           0            1\n2       1     1061     3.0  1260759182           0            2\n3       1     1129     2.0  1260759185           0            3\n4       1     1172     4.0  1260759205           0            4",
      "text/html": "<div>\n<style scoped>\n    .dataframe tbody tr th:only-of-type {\n        vertical-align: middle;\n    }\n\n    .dataframe tbody tr th {\n        vertical-align: top;\n    }\n\n    .dataframe thead th {\n        text-align: right;\n    }\n</style>\n<table border=\"1\" class=\"dataframe\">\n  <thead>\n    <tr style=\"text-align: right;\">\n      <th></th>\n      <th>userId</th>\n      <th>movieId</th>\n      <th>rating</th>\n      <th>timestamp</th>\n      <th>user_index</th>\n      <th>movie_index</th>\n    </tr>\n  </thead>\n  <tbody>\n    <tr>\n      <th>0</th>\n      <td>1</td>\n      <td>31</td>\n      <td>2.5</td>\n      <td>1260759144</td>\n      <td>0</td>\n      <td>0</td>\n    </tr>\n    <tr>\n      <th>1</th>\n      <td>1</td>\n      <td>1029</td>\n      <td>3.0</td>\n      <td>1260759179</td>\n      <td>0</td>\n      <td>1</td>\n    </tr>\n    <tr>\n      <th>2</th>\n      <td>1</td>\n      <td>1061</td>\n      <td>3.0</td>\n      <td>1260759182</td>\n      <td>0</td>\n      <td>2</td>\n    </tr>\n    <tr>\n      <th>3</th>\n      <td>1</td>\n      <td>1129</td>\n      <td>2.0</td>\n      <td>1260759185</td>\n      <td>0</td>\n      <td>3</td>\n    </tr>\n    <tr>\n      <th>4</th>\n      <td>1</td>\n      <td>1172</td>\n      <td>4.0</td>\n      <td>1260759205</td>\n      <td>0</td>\n      <td>4</td>\n    </tr>\n  </tbody>\n</table>\n</div>"
     },
     "execution_count": 13,
     "metadata": {},
     "output_type": "execute_result"
    }
   ],
   "source": [
    "df.head(5)"
   ]
  },
  {
   "cell_type": "markdown",
   "metadata": {},
   "source": [
    "### Scaling the ratings\n",
    "\n",
    "As is good when working with ``gradient descent``, it helps to have our values on a similar range, and for that to be between 0 and 1. We can use the ``MinMaxScaler`` from ``Scikit-Learn`` to scale our ratings to between 0 and 1"
   ]
  },
  {
   "cell_type": "code",
   "execution_count": 14,
   "metadata": {},
   "outputs": [
    {
     "data": {
      "text/plain": "count    100004.000000\nmean          3.543608\nstd           1.058064\nmin           0.500000\n25%           3.000000\n50%           4.000000\n75%           4.000000\nmax           5.000000\nName: rating, dtype: float64"
     },
     "execution_count": 14,
     "metadata": {},
     "output_type": "execute_result"
    }
   ],
   "source": [
    "df[\"rating\"].describe()"
   ]
  },
  {
   "cell_type": "code",
   "execution_count": 15,
   "metadata": {},
   "outputs": [],
   "source": [
    "from sklearn.preprocessing import MinMaxScaler\n",
    "##Pick the range\\\n",
    "df[\"rating\"] = MinMaxScaler().fit_transform(df[\"rating\"].values.reshape(-1, 1))"
   ]
  },
  {
   "cell_type": "code",
   "execution_count": 16,
   "metadata": {},
   "outputs": [
    {
     "data": {
      "text/plain": "count    100004.000000\nmean          0.676357\nstd           0.235125\nmin           0.000000\n25%           0.555556\n50%           0.777778\n75%           0.777778\nmax           1.000000\nName: rating, dtype: float64"
     },
     "execution_count": 16,
     "metadata": {},
     "output_type": "execute_result"
    }
   ],
   "source": [
    "df[\"rating\"].describe()"
   ]
  },
  {
   "cell_type": "markdown",
   "metadata": {},
   "source": [
    "## Training Set\n",
    "\n",
    "We are making a **predictive model** that will take a **user** and **movie** and return a **rating**. \n",
    "\n",
    "For our training, we will make a dataset using the information we already know. In this context, our input feautres (``x``) are the movie and user indexes, and the our output (``y``) is the rating. \n",
    "\n",
    "We make a train - test split of ``10%`` to validate our model. "
   ]
  },
  {
   "cell_type": "code",
   "execution_count": 2,
   "metadata": {},
   "outputs": [
    {
     "ename": "NameError",
     "evalue": "name 'df' is not defined",
     "output_type": "error",
     "traceback": [
      "\u001B[1;31m---------------------------------------------------------------------------\u001B[0m",
      "\u001B[1;31mNameError\u001B[0m                                 Traceback (most recent call last)",
      "Cell \u001B[1;32mIn[2], line 3\u001B[0m\n\u001B[0;32m      1\u001B[0m \u001B[38;5;28;01mfrom\u001B[39;00m \u001B[38;5;21;01msklearn\u001B[39;00m\u001B[38;5;21;01m.\u001B[39;00m\u001B[38;5;21;01mmodel_selection\u001B[39;00m \u001B[38;5;28;01mimport\u001B[39;00m train_test_split\n\u001B[0;32m      2\u001B[0m \u001B[38;5;66;03m#Inputs\u001B[39;00m\n\u001B[1;32m----> 3\u001B[0m x \u001B[38;5;241m=\u001B[39m \u001B[43mdf\u001B[49m[[\u001B[38;5;124m\"\u001B[39m\u001B[38;5;124muser_index\u001B[39m\u001B[38;5;124m\"\u001B[39m, \u001B[38;5;124m\"\u001B[39m\u001B[38;5;124mmovie_index\u001B[39m\u001B[38;5;124m\"\u001B[39m]]\n\u001B[0;32m      4\u001B[0m \u001B[38;5;66;03m#Outputs\u001B[39;00m\n\u001B[0;32m      5\u001B[0m y \u001B[38;5;241m=\u001B[39m df[\u001B[38;5;124m\"\u001B[39m\u001B[38;5;124mrating\u001B[39m\u001B[38;5;124m\"\u001B[39m]\n",
      "\u001B[1;31mNameError\u001B[0m: name 'df' is not defined"
     ]
    }
   ],
   "source": [
    "from sklearn.model_selection import train_test_split\n",
    "#Inputs\n",
    "x = df[[\"user_index\", \"movie_index\"]]\n",
    "#Outputs\n",
    "y = df[\"rating\"]\n",
    "#Get train-test split\n",
    "x_train, x_val, y_train, y_val = train_test_split(x, y, test_size=0.1, random_state=42)"
   ]
  },
  {
   "cell_type": "markdown",
   "metadata": {},
   "source": [
    "## Making a Custom Model \n",
    "\n",
    "Previously in ``Keras`` we have used to pre-existing layers, connecting them all together in using the [Sequential](https://keras.io/guides/sequential_model/) object. This allows us to fit together layers that pass information forwards in a structure that works for most **Neural Networks**.\n",
    "\n",
    "Partly for reasons of broadening our horizons, and partly due to many Tensorflow based issues, we are going to introduce you to what is fastly becoming the most popular machine learning library, ``PyTorch``. \n",
    "\n",
    "Luckily for us, the API (the functions, the structure of models etc..) are very similar across a lot of the leading libraries.\n",
    "\n",
    "``PyTorch`` has a [Module]() object which we can **subclass**. Without getting too bogged down in the details of **Object Oriented Programming**, essentially what this means is we can take the **existing functionality** from this object and **override** certain functions to add in custom behaviour.\n",
    "\n",
    "Using the ``Module`` structure, we have something that can take advantage of a lot the things that are built into the ``PyTorch`` library. It can be trained, can have layers, can have parameters that can be optimised.\n",
    "\n",
    "**But**, we can also add in our own functionality. \n",
    "\n",
    "The two main functions we want to override and these are \n",
    "\n",
    "1. ``def __init__()``\n",
    "    \n",
    "    * This is called **once** when the object is first made. We can use this to define our layers \n",
    "    \n",
    "\n",
    "2. ``def forward()``\n",
    "\n",
    "    * This is called everytime we want to make a forwards pass. This means it takes some **inputs** and returns some **outputs**. This is called during training, or for inference on a trained model. \n",
    "    \n",
    "### LouisNet\n",
    "\n",
    "Below, we show an **incredibly simple model**, but it should help you get an intuition for what function is called at when in the training process\n",
    "\n",
    "We can see the ``__init__()`` is called once, and then the ``call()`` is called **once per batch**, where we get the inputs for this batch and return some outputs\n",
    "\n",
    "This model doesnt actually have any parameters to train, its more to demonstrate the subclassing principle in the simplest terms"
   ]
  },
  {
   "cell_type": "code",
   "execution_count": 16,
   "metadata": {},
   "outputs": [
    {
     "name": "stdout",
     "output_type": "stream",
     "text": [
      "Collecting torch\n",
      "  Downloading torch-2.0.1-cp311-none-macosx_11_0_arm64.whl (55.8 MB)\n",
      "\u001B[2K     \u001B[90m━━━━━━━━━━━━━━━━━━━━━━━━━━━━━━━━━━━━━━━━\u001B[0m \u001B[32m55.8/55.8 MB\u001B[0m \u001B[31m4.9 MB/s\u001B[0m eta \u001B[36m0:00:00\u001B[0m00:01\u001B[0m00:01\u001B[0mm\n",
      "\u001B[?25hCollecting torchvision\n",
      "  Downloading torchvision-0.15.2-cp311-cp311-macosx_11_0_arm64.whl (1.4 MB)\n",
      "\u001B[2K     \u001B[90m━━━━━━━━━━━━━━━━━━━━━━━━━━━━━━━━━━━━━━━━\u001B[0m \u001B[32m1.4/1.4 MB\u001B[0m \u001B[31m16.7 MB/s\u001B[0m eta \u001B[36m0:00:00\u001B[0m00:01\u001B[0m00:01\u001B[0m\n",
      "\u001B[?25hCollecting torchaudio\n",
      "  Downloading torchaudio-2.0.2-cp311-cp311-macosx_11_0_arm64.whl (3.6 MB)\n",
      "\u001B[2K     \u001B[90m━━━━━━━━━━━━━━━━━━━━━━━━━━━━━━━━━━━━━━━━\u001B[0m \u001B[32m3.6/3.6 MB\u001B[0m \u001B[31m6.8 MB/s\u001B[0m eta \u001B[36m0:00:00\u001B[0m00:01\u001B[0m00:01\u001B[0mm\n",
      "\u001B[?25hCollecting filelock (from torch)\n",
      "  Downloading filelock-3.12.0-py3-none-any.whl (10 kB)\n",
      "Requirement already satisfied: typing-extensions in /Users/leiyuhan/miniconda3/envs/teset/lib/python3.11/site-packages (from torch) (4.5.0)\n",
      "Collecting sympy (from torch)\n",
      "  Downloading sympy-1.12-py3-none-any.whl (5.7 MB)\n",
      "\u001B[2K     \u001B[90m━━━━━━━━━━━━━━━━━━━━━━━━━━━━━━━━━━━━━━━━\u001B[0m \u001B[32m5.7/5.7 MB\u001B[0m \u001B[31m5.6 MB/s\u001B[0m eta \u001B[36m0:00:00\u001B[0m00:01\u001B[0m00:01\u001B[0mm\n",
      "\u001B[?25hCollecting networkx (from torch)\n",
      "  Downloading networkx-3.1-py3-none-any.whl (2.1 MB)\n",
      "\u001B[2K     \u001B[90m━━━━━━━━━━━━━━━━━━━━━━━━━━━━━━━━━━━━━━━━\u001B[0m \u001B[32m2.1/2.1 MB\u001B[0m \u001B[31m15.4 MB/s\u001B[0m eta \u001B[36m0:00:00\u001B[0ma \u001B[36m0:00:01\u001B[0m\n",
      "\u001B[?25hRequirement already satisfied: jinja2 in /Users/leiyuhan/miniconda3/envs/teset/lib/python3.11/site-packages (from torch) (3.1.2)\n",
      "Requirement already satisfied: numpy in /Users/leiyuhan/miniconda3/envs/teset/lib/python3.11/site-packages (from torchvision) (1.24.3)\n",
      "Requirement already satisfied: requests in /Users/leiyuhan/miniconda3/envs/teset/lib/python3.11/site-packages (from torchvision) (2.29.0)\n",
      "Requirement already satisfied: pillow!=8.3.*,>=5.3.0 in /Users/leiyuhan/miniconda3/envs/teset/lib/python3.11/site-packages (from torchvision) (9.4.0)\n",
      "Requirement already satisfied: MarkupSafe>=2.0 in /Users/leiyuhan/miniconda3/envs/teset/lib/python3.11/site-packages (from jinja2->torch) (2.1.1)\n",
      "Requirement already satisfied: charset-normalizer<4,>=2 in /Users/leiyuhan/miniconda3/envs/teset/lib/python3.11/site-packages (from requests->torchvision) (2.0.4)\n",
      "Requirement already satisfied: idna<4,>=2.5 in /Users/leiyuhan/miniconda3/envs/teset/lib/python3.11/site-packages (from requests->torchvision) (3.4)\n",
      "Requirement already satisfied: urllib3<1.27,>=1.21.1 in /Users/leiyuhan/miniconda3/envs/teset/lib/python3.11/site-packages (from requests->torchvision) (1.26.15)\n",
      "Requirement already satisfied: certifi>=2017.4.17 in /Users/leiyuhan/miniconda3/envs/teset/lib/python3.11/site-packages (from requests->torchvision) (2022.12.7)\n",
      "Collecting mpmath>=0.19 (from sympy->torch)\n",
      "  Downloading mpmath-1.3.0-py3-none-any.whl (536 kB)\n",
      "\u001B[2K     \u001B[90m━━━━━━━━━━━━━━━━━━━━━━━━━━━━━━━━━━━━━━\u001B[0m \u001B[32m536.2/536.2 kB\u001B[0m \u001B[31m16.7 MB/s\u001B[0m eta \u001B[36m0:00:00\u001B[0m\n",
      "\u001B[?25hInstalling collected packages: mpmath, sympy, networkx, filelock, torch, torchvision, torchaudio\n",
      "Successfully installed filelock-3.12.0 mpmath-1.3.0 networkx-3.1 sympy-1.12 torch-2.0.1 torchaudio-2.0.2 torchvision-0.15.2\n"
     ]
    }
   ],
   "source": [
    "#Install libraries (only do this once!)\n",
    "!pip install torch torchvision torchaudio"
   ]
  },
  {
   "cell_type": "code",
   "execution_count": 18,
   "metadata": {},
   "outputs": [],
   "source": [
    "#import library\n",
    "import torch"
   ]
  },
  {
   "cell_type": "code",
   "execution_count": 19,
   "metadata": {},
   "outputs": [
    {
     "name": "stdout",
     "output_type": "stream",
     "text": [
      "__init__ called\n",
      "\n",
      "forwards pass (new batch)\n",
      "tensor([[1.],\n",
      "        [2.],\n",
      "        [3.],\n",
      "        [4.]]) \n",
      "\n"
     ]
    }
   ],
   "source": [
    "#Define class and subclass torch.nn.Module\n",
    "class LouisNet(torch.nn.Module):\n",
    "    \n",
    "    #Override __init__()\n",
    "    def __init__(self):\n",
    "        super().__init__()\n",
    "        print(\"__init__ called\")\n",
    "    \n",
    "    #Override forward()\n",
    "    def forward(self, inputs):\n",
    "        print(\"\\nforwards pass (new batch)\")\n",
    "        print(inputs,\"\\n\")\n",
    "        #return the output (its just the input, unchanged)\n",
    "        return inputs\n",
    "\n",
    "#Make a new instance of LouisNet    \n",
    "louisNet = LouisNet()\n",
    "loss_fn = torch.nn.MSELoss() \n",
    "\n",
    "#Fake dataset\n",
    "x = torch.FloatTensor([[1],[2],[3],[4]])\n",
    "y = torch.FloatTensor([[2],[3],[4],[5]])\n",
    "\n",
    "#Do a forwards pass\n",
    "prediction = louisNet(x)\n",
    "loss = loss_fn(prediction, y)"
   ]
  },
  {
   "cell_type": "markdown",
   "metadata": {},
   "source": [
    "## The Dot Product Recommender Model\n",
    "\n",
    "Lets remember the model we're trying to make. \n",
    "\n",
    "\n",
    "```\n",
    "Predicted Rating = Dot Product(user_vector, item_vector) + user_bias + item_bias\n",
    "```\n",
    "\n",
    "\n",
    "Our target is to find a vector for each movie and user so that their dot product (+ their biases) is an accurate prediction for the rating that user would make for that movie. \n",
    "\n",
    "Each of these vectors will be contained in a matrix, that we call an **embedding**\n",
    "\n",
    "\n",
    "### The Embedding Layer \n",
    "\n",
    "Again, you can think of an embedding layer as a **one-hot encoding** layer the size of your **vocabulary**, followed by a **fully connected layer** the size of your embedding. \n",
    "\n",
    "Luckily, ```PyTorch``` has a layer already we can use, all we have to say is \n",
    "\n",
    "1. How many items we have (vocabulary size)\n",
    "\n",
    "2. The size of the embedding \n",
    "\n",
    "You might use something between 10-300, and this is something you will have to tune\n",
    "\n",
    "### New Arguments for ``__init__``\n",
    "\n",
    "Again, we will override the ```__init__()``` function, but this time we will add in some extra arguments. We can use this to pass in \n",
    "\n",
    "1. Number of users \n",
    "\n",
    "2. Number of movies\n",
    "\n",
    "3. Size of Embedding\n",
    "\n",
    "These get passed in when we make the new object \n",
    "\n",
    "```\n",
    "model = RecommenderNet(num_users, num_movies, EMBEDDING_SIZE)\n",
    "\n",
    "```\n",
    "\n",
    "### Saving Variables and ```self```\n",
    "\n",
    "Finally, the last **Object-oriented** concept we'll need allows us to save things within the object. These are sometimes called ``instance variables`` or ``fields``, but the main thing you need to know is **these are like the variables we use all the time to store objects and data**, apart from they belong to the object, and only work within this context \n",
    "\n",
    "We use the keyword ```self``` within the object to refer to itself. We can use this to make layers in the ```__init__()``` function, store them in the object, and then reuse and update them in the ```forward()``` function.\n"
   ]
  },
  {
   "cell_type": "markdown",
   "metadata": {},
   "source": [
    "On every forwards pass (see ``forward()`` below)\n",
    "\n",
    "1. We take a batch of ``users`` and ``movies``\n",
    "\n",
    "\n",
    "2. Run them through the normal embedding and bias embedding layers respectively \n",
    "\n",
    "\n",
    "3. Get the vectors for each out \n",
    "\n",
    "\n",
    "4. Get the dot product of the user and movie vectors \n",
    "\n",
    "\n",
    "5. Add the biases \n",
    "\n",
    "\n",
    "6. Run through a sigmoid\n",
    "\n",
    "\n",
    "7. Return!"
   ]
  },
  {
   "cell_type": "code",
   "execution_count": 1,
   "metadata": {},
   "outputs": [
    {
     "ename": "NameError",
     "evalue": "name 'torch' is not defined",
     "output_type": "error",
     "traceback": [
      "\u001B[1;31m---------------------------------------------------------------------------\u001B[0m",
      "\u001B[1;31mNameError\u001B[0m                                 Traceback (most recent call last)",
      "Cell \u001B[1;32mIn[1], line 1\u001B[0m\n\u001B[1;32m----> 1\u001B[0m \u001B[38;5;28;01mclass\u001B[39;00m \u001B[38;5;21;01mRecommenderNet\u001B[39;00m(\u001B[43mtorch\u001B[49m\u001B[38;5;241m.\u001B[39mnn\u001B[38;5;241m.\u001B[39mModule):\n\u001B[0;32m      2\u001B[0m     \u001B[38;5;28;01mdef\u001B[39;00m \u001B[38;5;21m__init__\u001B[39m(\u001B[38;5;28mself\u001B[39m, num_users, num_movies, embedding_size\u001B[38;5;241m=\u001B[39m\u001B[38;5;241m20\u001B[39m):\n\u001B[0;32m      3\u001B[0m         \u001B[38;5;28msuper\u001B[39m()\u001B[38;5;241m.\u001B[39m\u001B[38;5;21m__init__\u001B[39m()\n",
      "\u001B[1;31mNameError\u001B[0m: name 'torch' is not defined"
     ]
    }
   ],
   "source": [
    "class RecommenderNet(torch.nn.Module):\n",
    "    def __init__(self, num_users, num_movies, embedding_size=20):\n",
    "        super().__init__()\n",
    "        self.user_embedding = torch.nn.Embedding(num_users, embedding_size)\n",
    "        self.user_bias = torch.nn.Embedding(num_users, 1)\n",
    "        self.movie_embedding = torch.nn.Embedding(num_movies, embedding_size)\n",
    "        self.movie_bias = torch.nn.Embedding(num_movies, 1)\n",
    "        self.sig = torch.nn.Sigmoid()\n",
    "\n",
    "    def forward(self, inputs):\n",
    "        #Split out indexes \n",
    "        user_indexes = inputs[:, 0]\n",
    "        movie_indexes = inputs[:, 1]\n",
    "        #Forward pass on embedding layer\n",
    "        user_vector = self.user_embedding(user_indexes)\n",
    "        user_bias = self.user_bias(user_indexes).flatten()\n",
    "        movie_vector = self.movie_embedding(movie_indexes)\n",
    "        movie_bias = self.movie_bias(movie_indexes).flatten()\n",
    "        #Dot product\n",
    "        dot = (user_vector * movie_vector).sum(1)\n",
    "        with_bias = dot + user_bias + movie_bias\n",
    "        #Activation function\n",
    "        output = self.sig(with_bias)\n",
    "        return output"
   ]
  },
  {
   "cell_type": "markdown",
   "metadata": {},
   "source": [
    "## Lets test it!\n",
    "\n",
    "### Set up model"
   ]
  },
  {
   "cell_type": "code",
   "execution_count": 21,
   "metadata": {},
   "outputs": [],
   "source": [
    "#Pick Embedding size\n",
    "EMBEDDING_SIZE = 16\n",
    "#Make new object (calls __init__())\n",
    "num_users = len(user_ids)\n",
    "num_movies = len(movie_ids)\n",
    "model = RecommenderNet(num_users, num_movies, EMBEDDING_SIZE)"
   ]
  },
  {
   "cell_type": "markdown",
   "metadata": {},
   "source": [
    "### Training and Datasets in PyTorch\n",
    "\n",
    "PyTorch requires a little bit of manual set up for the training loop that we got for free in ``Keras`` with the ``fit()`` function. \n",
    "\n",
    "Below we see two for loops, one that loops round every epoch (once through the entire dataset) and inside that that loops through each batch (a subset of a chosen size).\n",
    "\n",
    "``PyTorch`` gives us a ``DataLoader`` object which helps with the batching process.\n",
    "\n",
    "Within that inner loop we pass in part of the training set, calculate the loss and update the weights based on this. \n"
   ]
  },
  {
   "cell_type": "code",
   "execution_count": 22,
   "metadata": {},
   "outputs": [],
   "source": [
    "from torch.utils.data import DataLoader\n",
    "from torch.utils.data import Dataset\n",
    "\n",
    "#Make a subclass to hold our dataset (movie - user pairs (input) and a rating (label))\n",
    "class MoviesDataset(Dataset):\n",
    "    def __init__(self, X,y):\n",
    "        self.X = torch.IntTensor(X)\n",
    "        self.y = torch.FloatTensor(y)\n",
    "    def __len__(self):\n",
    "        return len(self.X)\n",
    "    def __getitem__(self, idx):\n",
    "        return self.X[idx], self.y[idx]"
   ]
  },
  {
   "cell_type": "code",
   "execution_count": 23,
   "metadata": {},
   "outputs": [],
   "source": [
    "#Use our train - validation split to make DataLoader objects\n",
    "train_dl = DataLoader(MoviesDataset(x_train.values,y_train.values), batch_size=64, shuffle=True)\n",
    "validation_dl = DataLoader(MoviesDataset(x_val.values,y_val.values), batch_size=64, shuffle=True)"
   ]
  },
  {
   "cell_type": "code",
   "execution_count": 24,
   "metadata": {},
   "outputs": [],
   "source": [
    "epochs = 10\n",
    "#Use Mean Squared Error as a loss function\n",
    "loss_fn = torch.nn.MSELoss() \n",
    "#Use the Adam algorithm to update the weights based on the loss\n",
    "optimizer = torch.optim.Adam(model.parameters(),lr=0.01)"
   ]
  },
  {
   "cell_type": "code",
   "execution_count": 25,
   "metadata": {},
   "outputs": [
    {
     "name": "stdout",
     "output_type": "stream",
     "text": [
      "Loss 0.17091104388237 Validation Loss 0.11452551186084747\n",
      "Loss 0.0769750326871872 Validation Loss 0.08216816931962967\n",
      "Loss 0.04859926924109459 Validation Loss 0.06941480934619904\n",
      "Loss 0.03727338835597038 Validation Loss 0.06458643078804016\n",
      "Loss 0.0313669852912426 Validation Loss 0.06311647593975067\n",
      "Loss 0.02760489284992218 Validation Loss 0.06218786910176277\n",
      "Loss 0.025336744263768196 Validation Loss 0.06296209245920181\n",
      "Loss 0.023756243288517 Validation Loss 0.06204921752214432\n",
      "Loss 0.022566072642803192 Validation Loss 0.06253045052289963\n",
      "Loss 0.021713625639677048 Validation Loss 0.06210881099104881\n"
     ]
    }
   ],
   "source": [
    "#Use a for loop to repeat for the desired number of epochs \n",
    "for i in range(epochs):\n",
    "    \n",
    "    model.train(True)\n",
    "    \n",
    "    #Use a for loop for each batch (provided by the Dataloader)\n",
    "    running_loss = 0.0\n",
    "    for (index, batch) in enumerate(train_dl):\n",
    "        \n",
    "        #Get batch \n",
    "        inputs, labels = batch\n",
    "        model.zero_grad()\n",
    "        \n",
    "        #Forward pass\n",
    "        prediction = model(inputs)\n",
    "        \n",
    "        #Get Loss\n",
    "        loss = loss_fn(prediction, labels)\n",
    "        \n",
    "        #Update weights (back prop)\n",
    "        loss.backward()\n",
    "        optimizer.step()\n",
    "        running_loss += loss\n",
    "    \n",
    "    avg_loss = running_loss / (index + 1)\n",
    "\n",
    "    model.train(False)\n",
    "\n",
    "    #Now try with the validation set (no need to update weights, just get loss)\n",
    "    running_vloss = 0.0\n",
    "    for index, vdata in enumerate(validation_dl):\n",
    "        vinputs, vlabels = vdata\n",
    "        voutputs = model(vinputs)\n",
    "        vloss = loss_fn(voutputs, vlabels)\n",
    "        running_vloss += vloss\n",
    "\n",
    "    avg_vloss = running_vloss / (index + 1)\n",
    "    print('Loss {} Validation Loss {}'.format(avg_loss, avg_vloss))"
   ]
  },
  {
   "cell_type": "markdown",
   "metadata": {},
   "source": [
    "### Save and Reload models\n",
    "\n",
    "We can save the weights of our model (the important parts that we have learned) to file so we don't have to train again in future\n",
    "\n",
    "We can then load them into a new model from file. "
   ]
  },
  {
   "cell_type": "code",
   "execution_count": 26,
   "metadata": {},
   "outputs": [],
   "source": [
    "torch.save(model.state_dict(), 'model_weights.pth')"
   ]
  },
  {
   "cell_type": "code",
   "execution_count": 27,
   "metadata": {},
   "outputs": [
    {
     "data": {
      "text/plain": "RecommenderNet(\n  (user_embedding): Embedding(671, 16)\n  (user_bias): Embedding(671, 1)\n  (movie_embedding): Embedding(9066, 16)\n  (movie_bias): Embedding(9066, 1)\n  (sig): Sigmoid()\n)"
     },
     "execution_count": 27,
     "metadata": {},
     "output_type": "execute_result"
    }
   ],
   "source": [
    "model = RecommenderNet(num_users, num_movies, EMBEDDING_SIZE)\n",
    "model.load_state_dict(torch.load('model_weights.pth'))\n",
    "model.eval()"
   ]
  },
  {
   "cell_type": "markdown",
   "metadata": {},
   "source": [
    "### Accessing the Embeddings \n",
    "\n",
    "We can access the **embedding layers** in our model object. This is the embedding and we can see is has a shape of ```num_users x EMBEDDING_SIZE```"
   ]
  },
  {
   "cell_type": "code",
   "execution_count": 28,
   "metadata": {},
   "outputs": [
    {
     "data": {
      "text/plain": "(671, 16, Embedding(671, 16))"
     },
     "execution_count": 28,
     "metadata": {},
     "output_type": "execute_result"
    }
   ],
   "source": [
    "num_users, EMBEDDING_SIZE, model.user_embedding"
   ]
  },
  {
   "cell_type": "markdown",
   "metadata": {},
   "source": [
    "### Making Predictions \n",
    "\n",
    "Now, we can use our trained model to make predictions, and with the predicted ratings, we can pick some recommendations!\n",
    "\n",
    "In order to get the ratings for all movies for a given user, we need to get pass in our data in the form \n",
    "\n",
    "```\n",
    "[\n",
    "    [user_index, movie_1_index],\n",
    "    [user_index, movie_2_index],\n",
    "    [user_index, movie_3_index],\n",
    "    .....\n",
    "]\n",
    "\n",
    "```"
   ]
  },
  {
   "cell_type": "code",
   "execution_count": 29,
   "metadata": {},
   "outputs": [
    {
     "data": {
      "text/plain": "Index(['movieId', 'title', 'genres'], dtype='object')"
     },
     "execution_count": 29,
     "metadata": {},
     "output_type": "execute_result"
    }
   ],
   "source": [
    "#Get the movie data so we can map back to names\n",
    "movie_data = pd.read_csv(\"data/ml-latest-small/movies.csv\")\n",
    "movie_data.columns"
   ]
  },
  {
   "cell_type": "markdown",
   "metadata": {},
   "source": [
    "### Making predictions and `argsort()`\n",
    "\n",
    "Once we have the predicted ratings for each film, we need to get the **Top N**\n",
    "\n",
    "Here we use `np.argsort()`, which does the sort based on the **ratings** but returns the **indexes** rather than the **ratings themselves**. We can then use this to look up the `movie_ids` and then the `title`."
   ]
  },
  {
   "cell_type": "code",
   "execution_count": 30,
   "metadata": {},
   "outputs": [],
   "source": [
    "def get_top_n(user = 0, n = 10): \n",
    "    #Get Movie Names\n",
    "    top_n_indexes = get_top_n_indexes(user, n)\n",
    "    top_n = get_names_for_indexes(top_n_indexes)\n",
    "    return top_n\n",
    "\n",
    "def get_names_for_indexes(indexes):\n",
    "    return [movie_data[movie_data[\"movieId\"]==movie_ids[i]][\"title\"].item() for i in indexes]\n",
    "\n",
    "def get_top_n_indexes(user = 0, n = 10):\n",
    "    #For one user, make a pair with every movie index\n",
    "    x = torch.IntTensor([[user, i] for i in np.arange(num_movies)])\n",
    "    #Predict \n",
    "    predicted_ratings = model(x)\n",
    "    #Get Top-N indexes\n",
    "    top_n_indexes = predicted_ratings.argsort()[-n:]\n",
    "    return top_n_indexes"
   ]
  },
  {
   "cell_type": "code",
   "execution_count": 31,
   "metadata": {},
   "outputs": [
    {
     "data": {
      "text/plain": "['Vagabond (Sans toit ni loi) (1985)',\n 'Rivers and Tides (2001)',\n 'Naked (1993)',\n 'Listen to Me Marlon (2015)',\n 'Kingdom, The (Riget) (1994)',\n \"Shall We Kiss? (Un baiser s'il vous plait) (2007)\",\n 'Lured (1947)',\n 'Goodbye, Columbus (1969)',\n \"Gentleman's Agreement (1947)\",\n 'Force of Evil (1948)']"
     },
     "execution_count": 31,
     "metadata": {},
     "output_type": "execute_result"
    }
   ],
   "source": [
    "#Random users top 10\n",
    "get_top_n(np.random.randint(num_users))"
   ]
  },
  {
   "cell_type": "markdown",
   "metadata": {},
   "source": [
    "# Assessed Assignment 2\n",
    "\n",
    "Please remember to comment your code clearly, submit ``.ipynb`` \n",
    "\n",
    "## Task 1\n",
    "\n",
    "We're going to ask you take the trained model and write the code to make two metrics - **Diversity** and **Novelty**. You should end up with **one statistic** for each that tells you something about the recommendations of the trained model based on the **whole dataset**.\n",
    "\n",
    "\n",
    "#### Pro Tip\n",
    "\n",
    "This will take quite a long time to run on the whole dataset, so start off by trying to get the code to work for **one user**, then expand to **two users**, then **every user**.\n",
    "\n",
    "### Diversity \n",
    "\n",
    "This tells us what the mean diversity (inverse of the similarity, based on movie embeddings) between each film in every users Top 10 films is. \n",
    "\n",
    "1. Calculate every user's top 10\n",
    "\n",
    "\n",
    "2. For each top 10, get the embedding for each film then use this to calculate the similarity matrix\n",
    "\n",
    "\n",
    "3. Invert similarity to get the difference\n",
    "\n",
    "\n",
    "4. Get mean difference for each top 10 \n",
    "\n",
    "\n",
    "5. Report the mean for whole dataset (every top 10)\n",
    "\n",
    "\n",
    "### Novelty \n",
    "\n",
    "This tells us what the mean popularity (e.g. mean rating) of the films in every users Top 10 films is \n",
    "\n",
    "1. Calculate every user's top 10\n",
    "\n",
    "\n",
    "2. For each top 10, get the mean rating for each film (based on the original **MovieLens Small** dataset (``df = pd.read_csv(\"ml-latest-small/ratings.csv\")``). \n",
    "\n",
    "\n",
    "3. Get the mean rating for each top 10.\n",
    "\n",
    "\n",
    "4. Report the mean for the whole dataset (every top 10).\n",
    "\n",
    "\n",
    "\n",
    "## Task 2\n",
    "\n",
    "Using a dimensionality reduction approach (PCA? TSNE?), plot the top 30 best rated films on a 2-D graph based on their movie embeddings. Label each point with the title.\n",
    "\n",
    "There is infact ~400 films that have an average rating of 5 (because some films have only 1 rating). Can you adjust or filter for this?"
   ]
  },
  {
   "cell_type": "markdown",
   "source": [
    "## Assignment 2 - My Codes"
   ],
   "metadata": {
    "collapsed": false
   }
  },
  {
   "cell_type": "code",
   "execution_count": 1,
   "outputs": [],
   "source": [
    "import pandas as pd\n",
    "import numpy as np\n",
    "from pathlib import Path\n",
    "import matplotlib.pyplot as plt\n",
    "import torch"
   ],
   "metadata": {
    "collapsed": false
   }
  },
  {
   "cell_type": "code",
   "execution_count": 2,
   "outputs": [],
   "source": [
    "df = pd.read_csv(\"data/ml-latest-small/ratings.csv\")\n",
    "user_ids = df[\"userId\"].unique().tolist()\n",
    "movie_ids = df[\"movieId\"].unique().tolist()"
   ],
   "metadata": {
    "collapsed": false
   }
  },
  {
   "cell_type": "code",
   "execution_count": 3,
   "outputs": [
    {
     "data": {
      "text/plain": "9066"
     },
     "execution_count": 3,
     "metadata": {},
     "output_type": "execute_result"
    }
   ],
   "source": [
    "len(movie_ids)"
   ],
   "metadata": {
    "collapsed": false
   }
  },
  {
   "cell_type": "code",
   "execution_count": 4,
   "outputs": [],
   "source": [
    "# Make a dictionary mapping ids (keys) to indexes (values)\n",
    "user_id_to_index = {x: i for i, x in enumerate(user_ids)}\n",
    "movie_id_to_index = {x: i for i, x in enumerate(movie_ids)}"
   ],
   "metadata": {
    "collapsed": false
   }
  },
  {
   "cell_type": "code",
   "execution_count": 5,
   "outputs": [],
   "source": [
    "# Make a new column in the dataframe which contains the appropriate index for each user and movie\n",
    "df[\"user_index\"] = [user_id_to_index[i] for i in df[\"userId\"]]\n",
    "df[\"movie_index\"] = [movie_id_to_index[i] for i in df[\"movieId\"]]"
   ],
   "metadata": {
    "collapsed": false
   }
  },
  {
   "cell_type": "code",
   "execution_count": 6,
   "outputs": [
    {
     "data": {
      "text/plain": "count    100004.000000\nmean          0.676357\nstd           0.235125\nmin           0.000000\n25%           0.555556\n50%           0.777778\n75%           0.777778\nmax           1.000000\nName: rating, dtype: float64"
     },
     "execution_count": 6,
     "metadata": {},
     "output_type": "execute_result"
    }
   ],
   "source": [
    "from sklearn.preprocessing import MinMaxScaler\n",
    "##Pick the range\\\n",
    "df[\"rating\"] = MinMaxScaler().fit_transform(df[\"rating\"].values.reshape(-1, 1))\n",
    "\n",
    "df[\"rating\"].describe()"
   ],
   "metadata": {
    "collapsed": false
   }
  },
  {
   "cell_type": "code",
   "execution_count": 7,
   "outputs": [],
   "source": [
    "df.to_csv('data/processed_ratings.csv', index=False)"
   ],
   "metadata": {
    "collapsed": false
   }
  },
  {
   "cell_type": "code",
   "execution_count": 8,
   "outputs": [
    {
     "data": {
      "text/plain": "   userId  movieId    rating   timestamp  user_index  movie_index\n0       1       31  0.444444  1260759144           0            0\n1       1     1029  0.555556  1260759179           0            1\n2       1     1061  0.555556  1260759182           0            2\n3       1     1129  0.333333  1260759185           0            3\n4       1     1172  0.777778  1260759205           0            4",
      "text/html": "<div>\n<style scoped>\n    .dataframe tbody tr th:only-of-type {\n        vertical-align: middle;\n    }\n\n    .dataframe tbody tr th {\n        vertical-align: top;\n    }\n\n    .dataframe thead th {\n        text-align: right;\n    }\n</style>\n<table border=\"1\" class=\"dataframe\">\n  <thead>\n    <tr style=\"text-align: right;\">\n      <th></th>\n      <th>userId</th>\n      <th>movieId</th>\n      <th>rating</th>\n      <th>timestamp</th>\n      <th>user_index</th>\n      <th>movie_index</th>\n    </tr>\n  </thead>\n  <tbody>\n    <tr>\n      <th>0</th>\n      <td>1</td>\n      <td>31</td>\n      <td>0.444444</td>\n      <td>1260759144</td>\n      <td>0</td>\n      <td>0</td>\n    </tr>\n    <tr>\n      <th>1</th>\n      <td>1</td>\n      <td>1029</td>\n      <td>0.555556</td>\n      <td>1260759179</td>\n      <td>0</td>\n      <td>1</td>\n    </tr>\n    <tr>\n      <th>2</th>\n      <td>1</td>\n      <td>1061</td>\n      <td>0.555556</td>\n      <td>1260759182</td>\n      <td>0</td>\n      <td>2</td>\n    </tr>\n    <tr>\n      <th>3</th>\n      <td>1</td>\n      <td>1129</td>\n      <td>0.333333</td>\n      <td>1260759185</td>\n      <td>0</td>\n      <td>3</td>\n    </tr>\n    <tr>\n      <th>4</th>\n      <td>1</td>\n      <td>1172</td>\n      <td>0.777778</td>\n      <td>1260759205</td>\n      <td>0</td>\n      <td>4</td>\n    </tr>\n  </tbody>\n</table>\n</div>"
     },
     "execution_count": 8,
     "metadata": {},
     "output_type": "execute_result"
    }
   ],
   "source": [
    "# 这一段是读取之前处理过的数据，这样重复运行的时候就不用重新跑一遍上面的部分了\n",
    "df = pd.read_csv('data/processed_ratings.csv')\n",
    "df.head(5)"
   ],
   "metadata": {
    "collapsed": false
   }
  },
  {
   "cell_type": "code",
   "execution_count": 9,
   "outputs": [],
   "source": [
    "# 这里再定义一遍是为了不用跑到最顶上找对应的代码块\n",
    "class RecommenderNet(torch.nn.Module):\n",
    "    def __init__(self, num_users, num_movies, embedding_size=20):\n",
    "        super().__init__()\n",
    "        self.user_embedding = torch.nn.Embedding(num_users, embedding_size)\n",
    "        self.user_bias = torch.nn.Embedding(num_users, 1)\n",
    "        self.movie_embedding = torch.nn.Embedding(num_movies, embedding_size)\n",
    "        self.movie_bias = torch.nn.Embedding(num_movies, 1)\n",
    "        self.sig = torch.nn.Sigmoid()\n",
    "\n",
    "    def forward(self, inputs):\n",
    "        #Split out indexes\n",
    "        user_indexes = inputs[:, 0]\n",
    "        movie_indexes = inputs[:, 1]\n",
    "        #Forward pass on embedding layer\n",
    "        user_vector = self.user_embedding(user_indexes)\n",
    "        user_bias = self.user_bias(user_indexes).flatten()\n",
    "        movie_vector = self.movie_embedding(movie_indexes)\n",
    "        movie_bias = self.movie_bias(movie_indexes).flatten()\n",
    "        #Dot product\n",
    "        dot = (user_vector * movie_vector).sum(1)\n",
    "        with_bias = dot + user_bias + movie_bias\n",
    "        #Activation function\n",
    "        output = self.sig(with_bias)\n",
    "        return output"
   ],
   "metadata": {
    "collapsed": false
   }
  },
  {
   "cell_type": "code",
   "execution_count": 10,
   "outputs": [],
   "source": [
    "# 模型的必要的设置不能省略\n",
    "#Pick Embedding size\n",
    "EMBEDDING_SIZE = 16\n",
    "#Make new object (calls __init__())\n",
    "num_users = len(user_ids)\n",
    "num_movies = len(movie_ids)\n",
    "model = RecommenderNet(num_users, num_movies, EMBEDDING_SIZE)"
   ],
   "metadata": {
    "collapsed": false
   }
  },
  {
   "cell_type": "code",
   "execution_count": 11,
   "outputs": [
    {
     "data": {
      "text/plain": "RecommenderNet(\n  (user_embedding): Embedding(671, 16)\n  (user_bias): Embedding(671, 1)\n  (movie_embedding): Embedding(9066, 16)\n  (movie_bias): Embedding(9066, 1)\n  (sig): Sigmoid()\n)"
     },
     "execution_count": 11,
     "metadata": {},
     "output_type": "execute_result"
    }
   ],
   "source": [
    "# 加载之前的模型参数，用模型做推理才能得到embedding\n",
    "model = RecommenderNet(num_users, num_movies, EMBEDDING_SIZE)\n",
    "model.load_state_dict(torch.load('model_weights.pth'))\n",
    "model.eval()"
   ],
   "metadata": {
    "collapsed": false
   }
  },
  {
   "cell_type": "code",
   "execution_count": 12,
   "outputs": [
    {
     "name": "stdout",
     "output_type": "stream",
     "text": [
      "Index(['movieId', 'title', 'genres'], dtype='object')\n",
      "9125\n"
     ]
    }
   ],
   "source": [
    "# Get the movie data so we can map back to names\n",
    "movie_data = pd.read_csv(\"data/ml-latest-small/movies.csv\")\n",
    "print(movie_data.columns)\n",
    "print(len(movie_data['movieId']))"
   ],
   "metadata": {
    "collapsed": false
   }
  },
  {
   "cell_type": "code",
   "execution_count": 13,
   "outputs": [],
   "source": [
    "def get_top_n(user = 0, n = 10):\n",
    "    #Get Movie Names\n",
    "    top_n_indexes = get_top_n_indexes(user, n)\n",
    "    top_n = get_names_for_indexes(top_n_indexes)\n",
    "    return top_n\n",
    "\n",
    "def get_names_for_indexes(indexes):\n",
    "    return [movie_data[movie_data[\"movieId\"]==movie_ids[i]][\"title\"].item() for i in indexes]\n",
    "\n",
    "def get_top_n_indexes(user = 0, n = 10):\n",
    "    #For one user, make a pair with every movie index\n",
    "    x = torch.IntTensor([[user, i] for i in np.arange(num_movies)])\n",
    "    #Predict\n",
    "    predicted_ratings = model(x)\n",
    "    #Get Top-N indexes\n",
    "    top_n_indexes = predicted_ratings.argsort()[-n:]\n",
    "    return top_n_indexes"
   ],
   "metadata": {
    "collapsed": false
   }
  },
  {
   "cell_type": "markdown",
   "source": [
    "Task1, Diversity"
   ],
   "metadata": {
    "collapsed": false
   }
  },
  {
   "cell_type": "code",
   "execution_count": 14,
   "outputs": [
    {
     "name": "stdout",
     "output_type": "stream",
     "text": [
      "the mean for whole dataset (every top 10):  0.5939980064881007\n"
     ]
    }
   ],
   "source": [
    "from torch.nn.functional import cosine_similarity\n",
    "\n",
    "user_indexs = df[\"user_index\"].unique().tolist()\n",
    "# print(len(user_indexs))  # 671\n",
    "user_diffs = {}\n",
    "\n",
    "for user in user_indexs:\n",
    "    # 1 Calculate every user's top 10\n",
    "    top_10_indexes = get_top_n_indexes(user, n=10)\n",
    "    # 2 get the embeddings\n",
    "    movie_embeddings = model.movie_embedding(top_10_indexes)\n",
    "    # print(movie_embeddings.shape)  # (10, 16)\n",
    "\n",
    "    # calculate the similarity matrix\n",
    "    similarity_matrix = torch.zeros((10, 10))\n",
    "    for i in range(10):\n",
    "        for j in range(i+1):\n",
    "            similarity_matrix[i][j] = cosine_similarity(movie_embeddings[i].unsqueeze(0), movie_embeddings[j].unsqueeze(0))\n",
    "            similarity_matrix[j][i] = similarity_matrix[i][j]\n",
    "    # print(similarity_matrix.shape)  # torch.Size([10, 10])\n",
    "    # 3 Invert similarity to get the difference\n",
    "    diff_matrix = torch.ones((10, 10))\n",
    "    diff_matrix = diff_matrix - similarity_matrix\n",
    "    # print(diff_matrix)\n",
    "    # 4 Get mean difference for each top 10\n",
    "    mean_diff = torch.mean(diff_matrix, dim=1)  # top10中的每部电影，与其他电影的平均差异\n",
    "    # print(mean_diff)\n",
    "    user_diffs[user] = torch.mean(mean_diff, dim=0)  # 每个user的喜爱电影top10的均值\n",
    "\n",
    "\n",
    "# 5 Report the mean for whole dataset (every top 10)\n",
    "mean_all_top_10 = 0\n",
    "for user in user_diffs.keys():\n",
    "    mean_all_top_10 += user_diffs[user]\n",
    "\n",
    "print(\"the mean for whole dataset (every top 10): \", mean_all_top_10.item() / len(user_diffs))  # 所有user的喜爱电影top10的均值的均值"
   ],
   "metadata": {
    "collapsed": false
   }
  },
  {
   "cell_type": "markdown",
   "source": [
    "Task1, Novelty"
   ],
   "metadata": {
    "collapsed": false
   }
  },
  {
   "cell_type": "code",
   "execution_count": 15,
   "outputs": [],
   "source": [
    "# get the mean rating for all films (based on the original **MovieLens Small** dataset (``df = pd.read_csv(\"ml-latest-small/ratings.csv\")``).\n",
    "df_ratings = pd.read_csv(\"data/ml-latest-small/ratings.csv\")\n",
    "\n",
    "dict = {}  # dictionary for mean ratings of films\n",
    "average_ratings = df_ratings.groupby('movieId')['rating'].mean()\n",
    "for movie_id, average_rating in average_ratings.iteritems():\n",
    "    movie_name = movie_data[movie_data[\"movieId\"] == movie_id][\"title\"].item()\n",
    "    if not movie_name in dict.keys():\n",
    "        dict[movie_name] = average_rating  # 存储所有电影的平均分数"
   ],
   "metadata": {
    "collapsed": false
   }
  },
  {
   "cell_type": "code",
   "execution_count": 16,
   "outputs": [
    {
     "name": "stdout",
     "output_type": "stream",
     "text": [
      "the mean for whole dataset (every top 10):  4.315317460317478\n"
     ]
    }
   ],
   "source": [
    "ser_indexs = df[\"user_index\"].unique().tolist()\n",
    "# print(len(user_indexs))  # 671\n",
    "user_novelty = {}\n",
    "\n",
    "for user in user_indexs:\n",
    "    # 1. Calculate every user's top 10\n",
    "    movie_names = get_top_n(0, n=10)  # we need movies' name here\n",
    "    # print(movie_names)\n",
    "    # 2. For each top 10, get the mean rating for each film (based on the original **MovieLens Small** dataset (``df = pd.read_csv(\"ml-latest-small/ratings.csv\")``). 该步骤在上一个代码块中已经完成，不需要为每个user单独做一次\n",
    "    # for movie_name in movie_names:\n",
    "    #     print(dict[movie_name])\n",
    "    # 3. Get the mean rating for each top 10.\n",
    "    mean_rating = 0\n",
    "    for movie_name in movie_names:\n",
    "        mean_rating += dict[movie_name]\n",
    "    user_novelty[user] = mean_rating / 10.\n",
    "    # print(mean_rating)\n",
    "\n",
    "# 4. Report the mean for the whole dataset (every top 10).\n",
    "mean_all_top_10_rating = 0\n",
    "for user in user_novelty.keys():\n",
    "    mean_all_top_10_rating += user_novelty[user]\n",
    "\n",
    "print(\"the mean for whole dataset (every top 10): \", mean_all_top_10_rating / len(user_novelty))  # 所有user的喜爱电影top10的评分均值的均值"
   ],
   "metadata": {
    "collapsed": false
   }
  },
  {
   "cell_type": "markdown",
   "source": [
    "Task 2"
   ],
   "metadata": {
    "collapsed": false
   }
  },
  {
   "cell_type": "code",
   "execution_count": 17,
   "outputs": [
    {
     "name": "stdout",
     "output_type": "stream",
     "text": [
      "100004 69104\n",
      "   userId  movieId    rating   timestamp  user_index  movie_index\n",
      "0       1       31  0.444444  1260759144           0            0\n",
      "1       1     1029  0.555556  1260759179           0            1\n",
      "2       1     1061  0.555556  1260759182           0            2\n",
      "3       1     1129  0.333333  1260759185           0            3\n",
      "4       1     1172  0.777778  1260759205           0            4\n"
     ]
    }
   ],
   "source": [
    "df = pd.read_csv(\"data/processed_ratings.csv\")\n",
    "\n",
    "threshold = 20  # 评分条数少于阈值的电影会被丢弃\n",
    "movie_counts = df['movieId'].value_counts()\n",
    "filtered_movieIds = movie_counts[movie_counts >= threshold].index\n",
    "filtered_df = df[df['movieId'].isin(filtered_movieIds)]\n",
    "print(len(df), len(filtered_df))\n",
    "print(filtered_df.head(5))"
   ],
   "metadata": {
    "collapsed": false
   }
  },
  {
   "cell_type": "code",
   "execution_count": 18,
   "outputs": [
    {
     "name": "stdout",
     "output_type": "stream",
     "text": [
      "1303\n"
     ]
    }
   ],
   "source": [
    "movie_ratings = {}  # dictionary for mean ratings of films\n",
    "average_ratings = filtered_df.groupby('movieId')['rating'].mean()\n",
    "for movie_id, average_rating in average_ratings.iteritems():\n",
    "    if not movie_id in movie_ratings.keys():\n",
    "        movie_ratings[movie_id] = average_rating  # 存储所有电影的平均分数\n",
    "        # 这里用movie_id，方便后续进行比较，最后再转化成movie_name\n",
    "\n",
    "print(len(movie_ratings))  # 剩余1303部电影"
   ],
   "metadata": {
    "collapsed": false
   }
  },
  {
   "cell_type": "code",
   "execution_count": 19,
   "outputs": [],
   "source": [
    "# 本代码块创建一个将id转化为index的字典\n",
    "\n",
    "# 将 \"movieId\" 列设置为索引\n",
    "filtered_df = filtered_df.set_index('movieId')\n",
    "# 将索引列和 \"movie_index\" 列转换为字典\n",
    "id_to_index_dict = filtered_df['movie_index'].to_dict()"
   ],
   "metadata": {
    "collapsed": false
   }
  },
  {
   "cell_type": "code",
   "execution_count": 20,
   "outputs": [
    {
     "name": "stdout",
     "output_type": "stream",
     "text": [
      "57\n"
     ]
    }
   ],
   "source": [
    "print(id_to_index_dict[356])  # 测试字典的正确性"
   ],
   "metadata": {
    "collapsed": false
   }
  },
  {
   "cell_type": "code",
   "execution_count": 21,
   "outputs": [
    {
     "name": "stdout",
     "output_type": "stream",
     "text": [
      "Movie ID: 858 - Rating: 0.88611111111111\n",
      "Movie ID: 318 - Rating: 0.8860307252590197\n",
      "Movie ID: 1945 - Rating: 0.8773946360153259\n",
      "Movie ID: 926 - Rating: 0.8742690058479534\n",
      "Movie ID: 1217 - Rating: 0.8717948717948718\n",
      "Movie ID: 969 - Rating: 0.8711111111111113\n",
      "Movie ID: 2064 - Rating: 0.8650793650793654\n",
      "Movie ID: 913 - Rating: 0.8637992831541221\n",
      "Movie ID: 7502 - Rating: 0.8636363636363636\n",
      "Movie ID: 1221 - Rating: 0.863374485596707\n",
      "Movie ID: 905 - Rating: 0.8622222222222224\n",
      "Movie ID: 50 - Rating: 0.8601437258153661\n",
      "Movie ID: 3462 - Rating: 0.8576388888888891\n",
      "Movie ID: 898 - Rating: 0.8558558558558561\n",
      "Movie ID: 1228 - Rating: 0.8555555555555556\n",
      "Movie ID: 1252 - Rating: 0.8523391812865498\n",
      "Movie ID: 2318 - Rating: 0.85024154589372\n",
      "Movie ID: 904 - Rating: 0.8478260869565216\n",
      "Movie ID: 3730 - Rating: 0.8454106280193238\n",
      "Movie ID: 1203 - Rating: 0.8453453453453457\n",
      "Movie ID: 527 - Rating: 0.8451730418943517\n",
      "Movie ID: 1254 - Rating: 0.8444444444444447\n",
      "Movie ID: 6016 - Rating: 0.8438003220611912\n",
      "Movie ID: 922 - Rating: 0.8433048433048436\n",
      "Movie ID: 194 - Rating: 0.8425925925925929\n",
      "Movie ID: 3683 - Rating: 0.8425925925925927\n",
      "Movie ID: 2019 - Rating: 0.8395061728395062\n",
      "Movie ID: 1276 - Rating: 0.8381642512077295\n",
      "Movie ID: 1299 - Rating: 0.8380952380952381\n",
      "Movie ID: 908 - Rating: 0.8378033205619412\n"
     ]
    }
   ],
   "source": [
    "top_30_movies = sorted(movie_ratings.items(), key=lambda x: x[1], reverse=True)[:30]  # 评分前三十的电影\n",
    "\n",
    "# 打印分数最高的 30 部电影\n",
    "for movie_id, rating in top_30_movies:\n",
    "    print(\"Movie ID:\", movie_id, \"- Rating:\", rating)"
   ],
   "metadata": {
    "collapsed": false
   }
  },
  {
   "cell_type": "code",
   "execution_count": 22,
   "outputs": [
    {
     "name": "stdout",
     "output_type": "stream",
     "text": [
      "(858, 0.88611111111111)\n",
      "['Godfather, The (1972)', 'Shawshank Redemption, The (1994)', 'On the Waterfront (1954)', 'All About Eve (1950)', 'Ran (1985)', 'African Queen, The (1951)', 'Roger & Me (1989)', 'Maltese Falcon, The (1941)', 'Band of Brothers (2001)', 'Godfather: Part II, The (1974)', 'It Happened One Night (1934)', 'Usual Suspects, The (1995)', 'Modern Times (1936)', 'Philadelphia Story, The (1940)', 'Raging Bull (1980)', 'Chinatown (1974)', 'Happiness (1998)', 'Rear Window (1954)', 'Conversation, The (1974)', '12 Angry Men (1957)', \"Schindler's List (1993)\", 'Treasure of the Sierra Madre, The (1948)', 'City of God (Cidade de Deus) (2002)', 'Sunset Blvd. (a.k.a. Sunset Boulevard) (1950)', 'Smoke (1995)', 'Blood Simple (1984)', 'Seven Samurai (Shichinin no samurai) (1954)', 'Cool Hand Luke (1967)', 'Killing Fields, The (1984)', 'North by Northwest (1959)']\n"
     ]
    }
   ],
   "source": [
    "print(top_30_movies[0])  # 观察内容是否正确\n",
    "top_30_movie_names = [id_to_index_dict[k[0]] for k in top_30_movies]  # # k是一个元组，第一个元素是movie id，第二个元素是movie rating\n",
    "top_30_movie_names = get_names_for_indexes(top_30_movie_names)\n",
    "print(top_30_movie_names)  # 观察是否正确转化为名称"
   ],
   "metadata": {
    "collapsed": false
   }
  },
  {
   "cell_type": "code",
   "execution_count": 23,
   "outputs": [],
   "source": [
    "# 下面开始获取每部电影对应的embedding\n",
    "#Pick Embedding size\n",
    "EMBEDDING_SIZE = 16\n",
    "#Make new object (calls __init__())\n",
    "num_users = len(user_ids)\n",
    "num_movies = len(movie_ids)\n",
    "model = RecommenderNet(num_users, num_movies, EMBEDDING_SIZE)"
   ],
   "metadata": {
    "collapsed": false
   }
  },
  {
   "cell_type": "code",
   "execution_count": 24,
   "outputs": [
    {
     "data": {
      "text/plain": "RecommenderNet(\n  (user_embedding): Embedding(671, 16)\n  (user_bias): Embedding(671, 1)\n  (movie_embedding): Embedding(9066, 16)\n  (movie_bias): Embedding(9066, 1)\n  (sig): Sigmoid()\n)"
     },
     "execution_count": 24,
     "metadata": {},
     "output_type": "execute_result"
    }
   ],
   "source": [
    "model = RecommenderNet(num_users, num_movies, EMBEDDING_SIZE)\n",
    "model.load_state_dict(torch.load('model_weights.pth'))\n",
    "model.eval()"
   ],
   "metadata": {
    "collapsed": false
   }
  },
  {
   "cell_type": "code",
   "execution_count": 25,
   "outputs": [
    {
     "name": "stdout",
     "output_type": "stream",
     "text": [
      "(858, 0.88611111111111)\n",
      "(318, 0.8860307252590197)\n",
      "(1945, 0.8773946360153259)\n",
      "(926, 0.8742690058479534)\n",
      "(1217, 0.8717948717948718)\n",
      "(969, 0.8711111111111113)\n",
      "(2064, 0.8650793650793654)\n",
      "(913, 0.8637992831541221)\n",
      "(7502, 0.8636363636363636)\n",
      "(1221, 0.863374485596707)\n",
      "(905, 0.8622222222222224)\n",
      "(50, 0.8601437258153661)\n",
      "(3462, 0.8576388888888891)\n",
      "(898, 0.8558558558558561)\n",
      "(1228, 0.8555555555555556)\n",
      "(1252, 0.8523391812865498)\n",
      "(2318, 0.85024154589372)\n",
      "(904, 0.8478260869565216)\n",
      "(3730, 0.8454106280193238)\n",
      "(1203, 0.8453453453453457)\n",
      "(527, 0.8451730418943517)\n",
      "(1254, 0.8444444444444447)\n",
      "(6016, 0.8438003220611912)\n",
      "(922, 0.8433048433048436)\n",
      "(194, 0.8425925925925929)\n",
      "(3683, 0.8425925925925927)\n",
      "(2019, 0.8395061728395062)\n",
      "(1276, 0.8381642512077295)\n",
      "(1299, 0.8380952380952381)\n",
      "(908, 0.8378033205619412)\n"
     ]
    }
   ],
   "source": [
    "movie_embeddings = []\n",
    "for k in top_30_movies:  # 要得到电影的embedding，输入应该是movie_index\n",
    "    print(k)  # k是一个元组，第一个元素是movie id，第二个元素是movie rating\n",
    "    movie_vector = model.movie_embedding(torch.tensor(id_to_index_dict[k[0]]))\n",
    "    movie_embeddings.append(movie_vector)"
   ],
   "metadata": {
    "collapsed": false
   }
  },
  {
   "cell_type": "code",
   "execution_count": 26,
   "outputs": [],
   "source": [
    "import numpy as np\n",
    "import matplotlib.pyplot as plt\n",
    "from sklearn.decomposition import PCA"
   ],
   "metadata": {
    "collapsed": false
   }
  },
  {
   "cell_type": "code",
   "execution_count": 27,
   "outputs": [],
   "source": [
    "# 使用 PCA 进行降维，将嵌入向量降至 2 维\n",
    "movie_embeddings_array = np.array([movie_embedding.detach().numpy() for movie_embedding in movie_embeddings])\n",
    "pca = PCA(n_components=2)\n",
    "movie_embeddings_2d = pca.fit_transform(movie_embeddings_array)"
   ],
   "metadata": {
    "collapsed": false
   }
  },
  {
   "cell_type": "code",
   "execution_count": 28,
   "outputs": [
    {
     "data": {
      "text/plain": "<Figure size 1000x800 with 1 Axes>",
      "image/png": "[encoded data removed]"
     },
     "metadata": {},
     "output_type": "display_data"
    }
   ],
   "source": [
    "# 创建一个新的图形\n",
    "plt.figure(figsize=(10, 8))\n",
    "\n",
    "# 绘制散点图，并将电影名称标注在每个点上\n",
    "plt.scatter(movie_embeddings_2d[:, 0], movie_embeddings_2d[:, 1])\n",
    "for i, movie_name in enumerate(top_30_movie_names):\n",
    "    plt.annotate(movie_name, (movie_embeddings_2d[i, 0], movie_embeddings_2d[i, 1]))\n",
    "\n",
    "# 设置坐标轴标签\n",
    "plt.xlabel('PC1')\n",
    "plt.ylabel('PC2')\n",
    "\n",
    "# 显示图形\n",
    "plt.show()"
   ],
   "metadata": {
    "collapsed": false
   }
  },
  {
   "cell_type": "code",
   "execution_count": null,
   "outputs": [],
   "source": [],
   "metadata": {
    "collapsed": false
   }
  }
 ],
 "metadata": {
  "kernelspec": {
   "display_name": "Python 3 (ipykernel)",
   "language": "python",
   "name": "python3"
  },
  "language_info": {
   "codemirror_mode": {
    "name": "ipython",
    "version": 3
   },
   "file_extension": ".py",
   "mimetype": "text/x-python",
   "name": "python",
   "nbconvert_exporter": "python",
   "pygments_lexer": "ipython3",
   "version": "3.11.3"
  },
  "varInspector": {
   "cols": {
    "lenName": 16,
    "lenType": 16,
    "lenVar": 40
   },
   "kernels_config": {
    "python": {
     "delete_cmd_postfix": "",
     "delete_cmd_prefix": "del ",
     "library": "var_list.py",
     "varRefreshCmd": "print(var_dic_list())"
    },
    "r": {
     "delete_cmd_postfix": ") ",
     "delete_cmd_prefix": "rm(",
     "library": "var_list.r",
     "varRefreshCmd": "cat(var_dic_list()) "
    }
   },
   "types_to_exclude": [
    "module",
    "function",
    "builtin_function_or_method",
    "instance",
    "_Feature"
   ],
   "window_display": false
  }
 },
 "nbformat": 4,
 "nbformat_minor": 4
}
